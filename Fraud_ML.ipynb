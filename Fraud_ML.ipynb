{
 "cells": [
  {
   "cell_type": "code",
   "execution_count": 1,
   "id": "42c889b6-22f2-4a4d-845f-d03d90e03476",
   "metadata": {},
   "outputs": [],
   "source": [
    "import pandas as pd\n",
    "import matplotlib.pyplot as plt\n",
    "import numpy as np"
   ]
  },
  {
   "cell_type": "code",
   "execution_count": 3,
   "id": "3ab7c1ec-4360-48a4-a1d4-d93d8278aa89",
   "metadata": {},
   "outputs": [
    {
     "data": {
      "text/html": [
       "<div>\n",
       "<style scoped>\n",
       "    .dataframe tbody tr th:only-of-type {\n",
       "        vertical-align: middle;\n",
       "    }\n",
       "\n",
       "    .dataframe tbody tr th {\n",
       "        vertical-align: top;\n",
       "    }\n",
       "\n",
       "    .dataframe thead th {\n",
       "        text-align: right;\n",
       "    }\n",
       "</style>\n",
       "<table border=\"1\" class=\"dataframe\">\n",
       "  <thead>\n",
       "    <tr style=\"text-align: right;\">\n",
       "      <th></th>\n",
       "      <th>trans_date_trans_time</th>\n",
       "      <th>merchant</th>\n",
       "      <th>category</th>\n",
       "      <th>amt</th>\n",
       "      <th>city</th>\n",
       "      <th>state</th>\n",
       "      <th>lat</th>\n",
       "      <th>long</th>\n",
       "      <th>city_pop</th>\n",
       "      <th>job</th>\n",
       "      <th>dob</th>\n",
       "      <th>trans_num</th>\n",
       "      <th>merch_lat</th>\n",
       "      <th>merch_long</th>\n",
       "      <th>is_fraud</th>\n",
       "    </tr>\n",
       "  </thead>\n",
       "  <tbody>\n",
       "    <tr>\n",
       "      <th>0</th>\n",
       "      <td>04-01-2019 00:58</td>\n",
       "      <td>\"Stokes, Christiansen and Sipes\"</td>\n",
       "      <td>grocery_net</td>\n",
       "      <td>14.37</td>\n",
       "      <td>Wales</td>\n",
       "      <td>AK</td>\n",
       "      <td>64.7556</td>\n",
       "      <td>-165.6723</td>\n",
       "      <td>145</td>\n",
       "      <td>\"Administrator, education\"</td>\n",
       "      <td>09-11-1939</td>\n",
       "      <td>a3806e984cec6ac0096d8184c64ad3a1</td>\n",
       "      <td>65.654142</td>\n",
       "      <td>-164.722603</td>\n",
       "      <td>1</td>\n",
       "    </tr>\n",
       "    <tr>\n",
       "      <th>1</th>\n",
       "      <td>04-01-2019 15:06</td>\n",
       "      <td>Predovic Inc</td>\n",
       "      <td>shopping_net</td>\n",
       "      <td>966.11</td>\n",
       "      <td>Wales</td>\n",
       "      <td>AK</td>\n",
       "      <td>64.7556</td>\n",
       "      <td>-165.6723</td>\n",
       "      <td>145</td>\n",
       "      <td>\"Administrator, education\"</td>\n",
       "      <td>09-11-1939</td>\n",
       "      <td>a59185fe1b9ccf21323f581d7477573f</td>\n",
       "      <td>65.468863</td>\n",
       "      <td>-165.473127</td>\n",
       "      <td>1</td>\n",
       "    </tr>\n",
       "    <tr>\n",
       "      <th>2</th>\n",
       "      <td>04-01-2019 22:37</td>\n",
       "      <td>Wisozk and Sons</td>\n",
       "      <td>misc_pos</td>\n",
       "      <td>49.61</td>\n",
       "      <td>Wales</td>\n",
       "      <td>AK</td>\n",
       "      <td>64.7556</td>\n",
       "      <td>-165.6723</td>\n",
       "      <td>145</td>\n",
       "      <td>\"Administrator, education\"</td>\n",
       "      <td>09-11-1939</td>\n",
       "      <td>86ba3a888b42cd3925881fa34177b4e0</td>\n",
       "      <td>65.347667</td>\n",
       "      <td>-165.914542</td>\n",
       "      <td>1</td>\n",
       "    </tr>\n",
       "    <tr>\n",
       "      <th>3</th>\n",
       "      <td>04-01-2019 23:06</td>\n",
       "      <td>Murray-Smitham</td>\n",
       "      <td>grocery_pos</td>\n",
       "      <td>295.26</td>\n",
       "      <td>Wales</td>\n",
       "      <td>AK</td>\n",
       "      <td>64.7556</td>\n",
       "      <td>-165.6723</td>\n",
       "      <td>145</td>\n",
       "      <td>\"Administrator, education\"</td>\n",
       "      <td>09-11-1939</td>\n",
       "      <td>3a068fe1d856f0ecedbed33e4b5f4496</td>\n",
       "      <td>64.445035</td>\n",
       "      <td>-166.080207</td>\n",
       "      <td>1</td>\n",
       "    </tr>\n",
       "    <tr>\n",
       "      <th>4</th>\n",
       "      <td>04-01-2019 23:59</td>\n",
       "      <td>Friesen Lt</td>\n",
       "      <td>health_fitness</td>\n",
       "      <td>18.17</td>\n",
       "      <td>Wales</td>\n",
       "      <td>AK</td>\n",
       "      <td>64.7556</td>\n",
       "      <td>-165.6723</td>\n",
       "      <td>145</td>\n",
       "      <td>\"Administrator, education\"</td>\n",
       "      <td>09-11-1939</td>\n",
       "      <td>891cdd1191028759dc20dc224347a0ff</td>\n",
       "      <td>65.447094</td>\n",
       "      <td>-165.446843</td>\n",
       "      <td>1</td>\n",
       "    </tr>\n",
       "    <tr>\n",
       "      <th>...</th>\n",
       "      <td>...</td>\n",
       "      <td>...</td>\n",
       "      <td>...</td>\n",
       "      <td>...</td>\n",
       "      <td>...</td>\n",
       "      <td>...</td>\n",
       "      <td>...</td>\n",
       "      <td>...</td>\n",
       "      <td>...</td>\n",
       "      <td>...</td>\n",
       "      <td>...</td>\n",
       "      <td>...</td>\n",
       "      <td>...</td>\n",
       "      <td>...</td>\n",
       "      <td>...</td>\n",
       "    </tr>\n",
       "    <tr>\n",
       "      <th>14441</th>\n",
       "      <td>22-01-2019 00:37</td>\n",
       "      <td>Hudson-Grady</td>\n",
       "      <td>shopping_pos</td>\n",
       "      <td>122.00</td>\n",
       "      <td>Athena</td>\n",
       "      <td>OR</td>\n",
       "      <td>45.8289</td>\n",
       "      <td>-118.4971</td>\n",
       "      <td>1302</td>\n",
       "      <td>Dealer</td>\n",
       "      <td>18-10-1976</td>\n",
       "      <td>699a4c06b22711bf3e0d8ef91232d356</td>\n",
       "      <td>46.442439</td>\n",
       "      <td>-118.524214</td>\n",
       "      <td>0</td>\n",
       "    </tr>\n",
       "    <tr>\n",
       "      <th>14442</th>\n",
       "      <td>22-01-2019 00:41</td>\n",
       "      <td>\"Nienow, Ankunding and Collie\"</td>\n",
       "      <td>misc_pos</td>\n",
       "      <td>9.07</td>\n",
       "      <td>Gardiner</td>\n",
       "      <td>OR</td>\n",
       "      <td>43.7857</td>\n",
       "      <td>-124.1437</td>\n",
       "      <td>260</td>\n",
       "      <td>\"Engineer, maintenance\"</td>\n",
       "      <td>01-09-1956</td>\n",
       "      <td>080d620d24815c7d6c637cf0b71dde8e</td>\n",
       "      <td>42.901265</td>\n",
       "      <td>-124.995317</td>\n",
       "      <td>0</td>\n",
       "    </tr>\n",
       "    <tr>\n",
       "      <th>14443</th>\n",
       "      <td>22-01-2019 00:42</td>\n",
       "      <td>Pacocha-O'Reilly</td>\n",
       "      <td>grocery_pos</td>\n",
       "      <td>104.84</td>\n",
       "      <td>Alva</td>\n",
       "      <td>WY</td>\n",
       "      <td>44.6873</td>\n",
       "      <td>-104.4414</td>\n",
       "      <td>110</td>\n",
       "      <td>\"Administrator, local government\"</td>\n",
       "      <td>16-05-1973</td>\n",
       "      <td>3c346c8cd627c5fe3ed57430db2e9ae7</td>\n",
       "      <td>45.538062</td>\n",
       "      <td>-104.542117</td>\n",
       "      <td>0</td>\n",
       "    </tr>\n",
       "    <tr>\n",
       "      <th>14444</th>\n",
       "      <td>22-01-2019 00:48</td>\n",
       "      <td>\"Bins, Balistreri and Beatty\"</td>\n",
       "      <td>shopping_pos</td>\n",
       "      <td>268.16</td>\n",
       "      <td>Wales</td>\n",
       "      <td>AK</td>\n",
       "      <td>64.7556</td>\n",
       "      <td>-165.6723</td>\n",
       "      <td>145</td>\n",
       "      <td>\"Administrator, education\"</td>\n",
       "      <td>09-11-1939</td>\n",
       "      <td>e66ffcc95ba7fc490486242af1205d04</td>\n",
       "      <td>64.081462</td>\n",
       "      <td>-165.898698</td>\n",
       "      <td>0</td>\n",
       "    </tr>\n",
       "    <tr>\n",
       "      <th>14445</th>\n",
       "      <td>22-01-2019 00:55</td>\n",
       "      <td>Daugherty-Thompson</td>\n",
       "      <td>food_dining</td>\n",
       "      <td>50.09</td>\n",
       "      <td>Unionville</td>\n",
       "      <td>MO</td>\n",
       "      <td>40.4815</td>\n",
       "      <td>-92.9951</td>\n",
       "      <td>3805</td>\n",
       "      <td>\"Investment banker, corporate\"</td>\n",
       "      <td>15-09-1950</td>\n",
       "      <td>65e7370f473f9b9d75796c8033a7c929</td>\n",
       "      <td>40.387243</td>\n",
       "      <td>-92.224871</td>\n",
       "      <td>0</td>\n",
       "    </tr>\n",
       "  </tbody>\n",
       "</table>\n",
       "<p>14446 rows × 15 columns</p>\n",
       "</div>"
      ],
      "text/plain": [
       "      trans_date_trans_time                          merchant        category  \\\n",
       "0          04-01-2019 00:58  \"Stokes, Christiansen and Sipes\"     grocery_net   \n",
       "1          04-01-2019 15:06                      Predovic Inc    shopping_net   \n",
       "2          04-01-2019 22:37                   Wisozk and Sons        misc_pos   \n",
       "3          04-01-2019 23:06                    Murray-Smitham     grocery_pos   \n",
       "4          04-01-2019 23:59                        Friesen Lt  health_fitness   \n",
       "...                     ...                               ...             ...   \n",
       "14441      22-01-2019 00:37                      Hudson-Grady    shopping_pos   \n",
       "14442      22-01-2019 00:41    \"Nienow, Ankunding and Collie\"        misc_pos   \n",
       "14443      22-01-2019 00:42                  Pacocha-O'Reilly     grocery_pos   \n",
       "14444      22-01-2019 00:48     \"Bins, Balistreri and Beatty\"    shopping_pos   \n",
       "14445      22-01-2019 00:55                Daugherty-Thompson     food_dining   \n",
       "\n",
       "          amt        city state      lat      long  city_pop  \\\n",
       "0       14.37       Wales    AK  64.7556 -165.6723       145   \n",
       "1      966.11       Wales    AK  64.7556 -165.6723       145   \n",
       "2       49.61       Wales    AK  64.7556 -165.6723       145   \n",
       "3      295.26       Wales    AK  64.7556 -165.6723       145   \n",
       "4       18.17       Wales    AK  64.7556 -165.6723       145   \n",
       "...       ...         ...   ...      ...       ...       ...   \n",
       "14441  122.00      Athena    OR  45.8289 -118.4971      1302   \n",
       "14442    9.07    Gardiner    OR  43.7857 -124.1437       260   \n",
       "14443  104.84        Alva    WY  44.6873 -104.4414       110   \n",
       "14444  268.16       Wales    AK  64.7556 -165.6723       145   \n",
       "14445   50.09  Unionville    MO  40.4815  -92.9951      3805   \n",
       "\n",
       "                                     job         dob  \\\n",
       "0             \"Administrator, education\"  09-11-1939   \n",
       "1             \"Administrator, education\"  09-11-1939   \n",
       "2             \"Administrator, education\"  09-11-1939   \n",
       "3             \"Administrator, education\"  09-11-1939   \n",
       "4             \"Administrator, education\"  09-11-1939   \n",
       "...                                  ...         ...   \n",
       "14441                             Dealer  18-10-1976   \n",
       "14442            \"Engineer, maintenance\"  01-09-1956   \n",
       "14443  \"Administrator, local government\"  16-05-1973   \n",
       "14444         \"Administrator, education\"  09-11-1939   \n",
       "14445     \"Investment banker, corporate\"  15-09-1950   \n",
       "\n",
       "                              trans_num  merch_lat  merch_long is_fraud  \n",
       "0      a3806e984cec6ac0096d8184c64ad3a1  65.654142 -164.722603        1  \n",
       "1      a59185fe1b9ccf21323f581d7477573f  65.468863 -165.473127        1  \n",
       "2      86ba3a888b42cd3925881fa34177b4e0  65.347667 -165.914542        1  \n",
       "3      3a068fe1d856f0ecedbed33e4b5f4496  64.445035 -166.080207        1  \n",
       "4      891cdd1191028759dc20dc224347a0ff  65.447094 -165.446843        1  \n",
       "...                                 ...        ...         ...      ...  \n",
       "14441  699a4c06b22711bf3e0d8ef91232d356  46.442439 -118.524214        0  \n",
       "14442  080d620d24815c7d6c637cf0b71dde8e  42.901265 -124.995317        0  \n",
       "14443  3c346c8cd627c5fe3ed57430db2e9ae7  45.538062 -104.542117        0  \n",
       "14444  e66ffcc95ba7fc490486242af1205d04  64.081462 -165.898698        0  \n",
       "14445  65e7370f473f9b9d75796c8033a7c929  40.387243  -92.224871        0  \n",
       "\n",
       "[14446 rows x 15 columns]"
      ]
     },
     "execution_count": 3,
     "metadata": {},
     "output_type": "execute_result"
    }
   ],
   "source": [
    "pd.read_csv(r\"C:\\Users\\HP\\Documents\\fraud_data.csv\")"
   ]
  },
  {
   "cell_type": "code",
   "execution_count": 4,
   "id": "d34a27d3-0178-4915-9658-b90ee152ad7f",
   "metadata": {},
   "outputs": [],
   "source": [
    "fraud_df=pd.read_csv(r\"C:\\Users\\HP\\Documents\\fraud_data.csv\")"
   ]
  },
  {
   "cell_type": "code",
   "execution_count": 6,
   "id": "1f2fcd15-a3b1-41ed-aeec-0f6081b98a8e",
   "metadata": {},
   "outputs": [
    {
     "data": {
      "text/plain": [
       "(14446, 15)"
      ]
     },
     "execution_count": 6,
     "metadata": {},
     "output_type": "execute_result"
    }
   ],
   "source": [
    "fraud_df.shape"
   ]
  },
  {
   "cell_type": "code",
   "execution_count": 5,
   "id": "8bc5833b-2a84-41fe-a899-b5efddaf8a31",
   "metadata": {},
   "outputs": [
    {
     "data": {
      "text/plain": [
       "<bound method DataFrame.info of       trans_date_trans_time                          merchant        category  \\\n",
       "0          04-01-2019 00:58  \"Stokes, Christiansen and Sipes\"     grocery_net   \n",
       "1          04-01-2019 15:06                      Predovic Inc    shopping_net   \n",
       "2          04-01-2019 22:37                   Wisozk and Sons        misc_pos   \n",
       "3          04-01-2019 23:06                    Murray-Smitham     grocery_pos   \n",
       "4          04-01-2019 23:59                        Friesen Lt  health_fitness   \n",
       "...                     ...                               ...             ...   \n",
       "14441      22-01-2019 00:37                      Hudson-Grady    shopping_pos   \n",
       "14442      22-01-2019 00:41    \"Nienow, Ankunding and Collie\"        misc_pos   \n",
       "14443      22-01-2019 00:42                  Pacocha-O'Reilly     grocery_pos   \n",
       "14444      22-01-2019 00:48     \"Bins, Balistreri and Beatty\"    shopping_pos   \n",
       "14445      22-01-2019 00:55                Daugherty-Thompson     food_dining   \n",
       "\n",
       "          amt        city state      lat      long  city_pop  \\\n",
       "0       14.37       Wales    AK  64.7556 -165.6723       145   \n",
       "1      966.11       Wales    AK  64.7556 -165.6723       145   \n",
       "2       49.61       Wales    AK  64.7556 -165.6723       145   \n",
       "3      295.26       Wales    AK  64.7556 -165.6723       145   \n",
       "4       18.17       Wales    AK  64.7556 -165.6723       145   \n",
       "...       ...         ...   ...      ...       ...       ...   \n",
       "14441  122.00      Athena    OR  45.8289 -118.4971      1302   \n",
       "14442    9.07    Gardiner    OR  43.7857 -124.1437       260   \n",
       "14443  104.84        Alva    WY  44.6873 -104.4414       110   \n",
       "14444  268.16       Wales    AK  64.7556 -165.6723       145   \n",
       "14445   50.09  Unionville    MO  40.4815  -92.9951      3805   \n",
       "\n",
       "                                     job         dob  \\\n",
       "0             \"Administrator, education\"  09-11-1939   \n",
       "1             \"Administrator, education\"  09-11-1939   \n",
       "2             \"Administrator, education\"  09-11-1939   \n",
       "3             \"Administrator, education\"  09-11-1939   \n",
       "4             \"Administrator, education\"  09-11-1939   \n",
       "...                                  ...         ...   \n",
       "14441                             Dealer  18-10-1976   \n",
       "14442            \"Engineer, maintenance\"  01-09-1956   \n",
       "14443  \"Administrator, local government\"  16-05-1973   \n",
       "14444         \"Administrator, education\"  09-11-1939   \n",
       "14445     \"Investment banker, corporate\"  15-09-1950   \n",
       "\n",
       "                              trans_num  merch_lat  merch_long is_fraud  \n",
       "0      a3806e984cec6ac0096d8184c64ad3a1  65.654142 -164.722603        1  \n",
       "1      a59185fe1b9ccf21323f581d7477573f  65.468863 -165.473127        1  \n",
       "2      86ba3a888b42cd3925881fa34177b4e0  65.347667 -165.914542        1  \n",
       "3      3a068fe1d856f0ecedbed33e4b5f4496  64.445035 -166.080207        1  \n",
       "4      891cdd1191028759dc20dc224347a0ff  65.447094 -165.446843        1  \n",
       "...                                 ...        ...         ...      ...  \n",
       "14441  699a4c06b22711bf3e0d8ef91232d356  46.442439 -118.524214        0  \n",
       "14442  080d620d24815c7d6c637cf0b71dde8e  42.901265 -124.995317        0  \n",
       "14443  3c346c8cd627c5fe3ed57430db2e9ae7  45.538062 -104.542117        0  \n",
       "14444  e66ffcc95ba7fc490486242af1205d04  64.081462 -165.898698        0  \n",
       "14445  65e7370f473f9b9d75796c8033a7c929  40.387243  -92.224871        0  \n",
       "\n",
       "[14446 rows x 15 columns]>"
      ]
     },
     "execution_count": 5,
     "metadata": {},
     "output_type": "execute_result"
    }
   ],
   "source": [
    "fraud_df.info"
   ]
  },
  {
   "cell_type": "markdown",
   "id": "0a29bfda-7228-4be2-82ae-d3be0b020770",
   "metadata": {},
   "source": [
    "1) trans_date_trans_time – The date and time of the transaction.\n",
    "   \n",
    "2)merchant – The name of the merchant where the transaction took place.\n",
    "\n",
    "3)category – The type of business or industry the merchant belongs to (e.g., grocery, shopping, health).\n",
    "\n",
    "amt – The amount of money spent in the transaction.\n",
    "\n",
    "city – The city where the transaction occurred.\n",
    "\n",
    "state – The state where the transaction occurred.\n",
    "\n",
    "lat – The latitude coordinate of the transaction location.\n",
    "\n",
    "long – The longitude coordinate of the transaction location.\n",
    "\n",
    "city_pop – The population of the city where the transaction took place.\n",
    "\n",
    "job – The occupation of the person making the transaction.\n",
    "\n",
    "dob – The date of birth of the person making the transaction.\n",
    "\n",
    "trans_num – A unique identifier for each transaction.\n",
    "\n",
    "merch_lat – The latitude coordinate of the merchant’s location.\n",
    "\n",
    "merch_long – The longitude coordinate of the merchant’s location.\n",
    "\n",
    "is_fraud – A binary indicator (0 or 1) where 1 means the transaction is fraudulent and 0 means it is legitimate."
   ]
  },
  {
   "cell_type": "code",
   "execution_count": 7,
   "id": "94bd4a6e-fc1b-4835-bbb6-83ad8f7e3675",
   "metadata": {},
   "outputs": [
    {
     "data": {
      "text/html": [
       "<div>\n",
       "<style scoped>\n",
       "    .dataframe tbody tr th:only-of-type {\n",
       "        vertical-align: middle;\n",
       "    }\n",
       "\n",
       "    .dataframe tbody tr th {\n",
       "        vertical-align: top;\n",
       "    }\n",
       "\n",
       "    .dataframe thead th {\n",
       "        text-align: right;\n",
       "    }\n",
       "</style>\n",
       "<table border=\"1\" class=\"dataframe\">\n",
       "  <thead>\n",
       "    <tr style=\"text-align: right;\">\n",
       "      <th></th>\n",
       "      <th>trans_date_trans_time</th>\n",
       "      <th>merchant</th>\n",
       "      <th>category</th>\n",
       "      <th>amt</th>\n",
       "      <th>city</th>\n",
       "      <th>state</th>\n",
       "      <th>lat</th>\n",
       "      <th>long</th>\n",
       "      <th>city_pop</th>\n",
       "      <th>job</th>\n",
       "      <th>dob</th>\n",
       "      <th>trans_num</th>\n",
       "      <th>merch_lat</th>\n",
       "      <th>merch_long</th>\n",
       "      <th>is_fraud</th>\n",
       "    </tr>\n",
       "  </thead>\n",
       "  <tbody>\n",
       "    <tr>\n",
       "      <th>0</th>\n",
       "      <td>04-01-2019 00:58</td>\n",
       "      <td>\"Stokes, Christiansen and Sipes\"</td>\n",
       "      <td>grocery_net</td>\n",
       "      <td>14.37</td>\n",
       "      <td>Wales</td>\n",
       "      <td>AK</td>\n",
       "      <td>64.7556</td>\n",
       "      <td>-165.6723</td>\n",
       "      <td>145</td>\n",
       "      <td>\"Administrator, education\"</td>\n",
       "      <td>09-11-1939</td>\n",
       "      <td>a3806e984cec6ac0096d8184c64ad3a1</td>\n",
       "      <td>65.654142</td>\n",
       "      <td>-164.722603</td>\n",
       "      <td>1</td>\n",
       "    </tr>\n",
       "    <tr>\n",
       "      <th>1</th>\n",
       "      <td>04-01-2019 15:06</td>\n",
       "      <td>Predovic Inc</td>\n",
       "      <td>shopping_net</td>\n",
       "      <td>966.11</td>\n",
       "      <td>Wales</td>\n",
       "      <td>AK</td>\n",
       "      <td>64.7556</td>\n",
       "      <td>-165.6723</td>\n",
       "      <td>145</td>\n",
       "      <td>\"Administrator, education\"</td>\n",
       "      <td>09-11-1939</td>\n",
       "      <td>a59185fe1b9ccf21323f581d7477573f</td>\n",
       "      <td>65.468863</td>\n",
       "      <td>-165.473127</td>\n",
       "      <td>1</td>\n",
       "    </tr>\n",
       "    <tr>\n",
       "      <th>2</th>\n",
       "      <td>04-01-2019 22:37</td>\n",
       "      <td>Wisozk and Sons</td>\n",
       "      <td>misc_pos</td>\n",
       "      <td>49.61</td>\n",
       "      <td>Wales</td>\n",
       "      <td>AK</td>\n",
       "      <td>64.7556</td>\n",
       "      <td>-165.6723</td>\n",
       "      <td>145</td>\n",
       "      <td>\"Administrator, education\"</td>\n",
       "      <td>09-11-1939</td>\n",
       "      <td>86ba3a888b42cd3925881fa34177b4e0</td>\n",
       "      <td>65.347667</td>\n",
       "      <td>-165.914542</td>\n",
       "      <td>1</td>\n",
       "    </tr>\n",
       "    <tr>\n",
       "      <th>3</th>\n",
       "      <td>04-01-2019 23:06</td>\n",
       "      <td>Murray-Smitham</td>\n",
       "      <td>grocery_pos</td>\n",
       "      <td>295.26</td>\n",
       "      <td>Wales</td>\n",
       "      <td>AK</td>\n",
       "      <td>64.7556</td>\n",
       "      <td>-165.6723</td>\n",
       "      <td>145</td>\n",
       "      <td>\"Administrator, education\"</td>\n",
       "      <td>09-11-1939</td>\n",
       "      <td>3a068fe1d856f0ecedbed33e4b5f4496</td>\n",
       "      <td>64.445035</td>\n",
       "      <td>-166.080207</td>\n",
       "      <td>1</td>\n",
       "    </tr>\n",
       "    <tr>\n",
       "      <th>4</th>\n",
       "      <td>04-01-2019 23:59</td>\n",
       "      <td>Friesen Lt</td>\n",
       "      <td>health_fitness</td>\n",
       "      <td>18.17</td>\n",
       "      <td>Wales</td>\n",
       "      <td>AK</td>\n",
       "      <td>64.7556</td>\n",
       "      <td>-165.6723</td>\n",
       "      <td>145</td>\n",
       "      <td>\"Administrator, education\"</td>\n",
       "      <td>09-11-1939</td>\n",
       "      <td>891cdd1191028759dc20dc224347a0ff</td>\n",
       "      <td>65.447094</td>\n",
       "      <td>-165.446843</td>\n",
       "      <td>1</td>\n",
       "    </tr>\n",
       "  </tbody>\n",
       "</table>\n",
       "</div>"
      ],
      "text/plain": [
       "  trans_date_trans_time                          merchant        category  \\\n",
       "0      04-01-2019 00:58  \"Stokes, Christiansen and Sipes\"     grocery_net   \n",
       "1      04-01-2019 15:06                      Predovic Inc    shopping_net   \n",
       "2      04-01-2019 22:37                   Wisozk and Sons        misc_pos   \n",
       "3      04-01-2019 23:06                    Murray-Smitham     grocery_pos   \n",
       "4      04-01-2019 23:59                        Friesen Lt  health_fitness   \n",
       "\n",
       "      amt   city state      lat      long  city_pop  \\\n",
       "0   14.37  Wales    AK  64.7556 -165.6723       145   \n",
       "1  966.11  Wales    AK  64.7556 -165.6723       145   \n",
       "2   49.61  Wales    AK  64.7556 -165.6723       145   \n",
       "3  295.26  Wales    AK  64.7556 -165.6723       145   \n",
       "4   18.17  Wales    AK  64.7556 -165.6723       145   \n",
       "\n",
       "                          job         dob                         trans_num  \\\n",
       "0  \"Administrator, education\"  09-11-1939  a3806e984cec6ac0096d8184c64ad3a1   \n",
       "1  \"Administrator, education\"  09-11-1939  a59185fe1b9ccf21323f581d7477573f   \n",
       "2  \"Administrator, education\"  09-11-1939  86ba3a888b42cd3925881fa34177b4e0   \n",
       "3  \"Administrator, education\"  09-11-1939  3a068fe1d856f0ecedbed33e4b5f4496   \n",
       "4  \"Administrator, education\"  09-11-1939  891cdd1191028759dc20dc224347a0ff   \n",
       "\n",
       "   merch_lat  merch_long is_fraud  \n",
       "0  65.654142 -164.722603        1  \n",
       "1  65.468863 -165.473127        1  \n",
       "2  65.347667 -165.914542        1  \n",
       "3  64.445035 -166.080207        1  \n",
       "4  65.447094 -165.446843        1  "
      ]
     },
     "execution_count": 7,
     "metadata": {},
     "output_type": "execute_result"
    }
   ],
   "source": [
    "fraud_df.head(5)"
   ]
  },
  {
   "cell_type": "code",
   "execution_count": 11,
   "id": "194be990-a166-4e3d-9aea-6f6152289a0c",
   "metadata": {},
   "outputs": [
    {
     "data": {
      "text/plain": [
       "trans_date_trans_time    0\n",
       "merchant                 0\n",
       "category                 0\n",
       "amt                      0\n",
       "city                     0\n",
       "state                    0\n",
       "lat                      0\n",
       "long                     0\n",
       "city_pop                 0\n",
       "job                      0\n",
       "dob                      0\n",
       "trans_num                0\n",
       "merch_lat                0\n",
       "merch_long               0\n",
       "is_fraud                 0\n",
       "dtype: int64"
      ]
     },
     "execution_count": 11,
     "metadata": {},
     "output_type": "execute_result"
    }
   ],
   "source": [
    "fraud_df.isnull().sum()"
   ]
  },
  {
   "cell_type": "code",
   "execution_count": 12,
   "id": "6c95433b-2df2-4a76-8089-b88990b93451",
   "metadata": {},
   "outputs": [
    {
     "data": {
      "text/html": [
       "<div>\n",
       "<style scoped>\n",
       "    .dataframe tbody tr th:only-of-type {\n",
       "        vertical-align: middle;\n",
       "    }\n",
       "\n",
       "    .dataframe tbody tr th {\n",
       "        vertical-align: top;\n",
       "    }\n",
       "\n",
       "    .dataframe thead th {\n",
       "        text-align: right;\n",
       "    }\n",
       "</style>\n",
       "<table border=\"1\" class=\"dataframe\">\n",
       "  <thead>\n",
       "    <tr style=\"text-align: right;\">\n",
       "      <th></th>\n",
       "      <th>amt</th>\n",
       "      <th>lat</th>\n",
       "      <th>long</th>\n",
       "      <th>city_pop</th>\n",
       "      <th>merch_lat</th>\n",
       "      <th>merch_long</th>\n",
       "    </tr>\n",
       "  </thead>\n",
       "  <tbody>\n",
       "    <tr>\n",
       "      <th>count</th>\n",
       "      <td>14446.000000</td>\n",
       "      <td>14446.000000</td>\n",
       "      <td>14446.000000</td>\n",
       "      <td>1.444600e+04</td>\n",
       "      <td>14446.000000</td>\n",
       "      <td>14446.000000</td>\n",
       "    </tr>\n",
       "    <tr>\n",
       "      <th>mean</th>\n",
       "      <td>124.430073</td>\n",
       "      <td>39.787692</td>\n",
       "      <td>-110.874225</td>\n",
       "      <td>1.065370e+05</td>\n",
       "      <td>39.787991</td>\n",
       "      <td>-110.874892</td>\n",
       "    </tr>\n",
       "    <tr>\n",
       "      <th>std</th>\n",
       "      <td>231.352587</td>\n",
       "      <td>5.317039</td>\n",
       "      <td>12.985813</td>\n",
       "      <td>2.902916e+05</td>\n",
       "      <td>5.360593</td>\n",
       "      <td>12.995596</td>\n",
       "    </tr>\n",
       "    <tr>\n",
       "      <th>min</th>\n",
       "      <td>1.000000</td>\n",
       "      <td>20.027100</td>\n",
       "      <td>-165.672300</td>\n",
       "      <td>4.600000e+01</td>\n",
       "      <td>19.032689</td>\n",
       "      <td>-166.670685</td>\n",
       "    </tr>\n",
       "    <tr>\n",
       "      <th>25%</th>\n",
       "      <td>12.080000</td>\n",
       "      <td>36.715400</td>\n",
       "      <td>-120.415800</td>\n",
       "      <td>4.930000e+02</td>\n",
       "      <td>36.794655</td>\n",
       "      <td>-120.146253</td>\n",
       "    </tr>\n",
       "    <tr>\n",
       "      <th>50%</th>\n",
       "      <td>51.520000</td>\n",
       "      <td>39.666200</td>\n",
       "      <td>-111.098500</td>\n",
       "      <td>1.645000e+03</td>\n",
       "      <td>39.620953</td>\n",
       "      <td>-111.192629</td>\n",
       "    </tr>\n",
       "    <tr>\n",
       "      <th>75%</th>\n",
       "      <td>101.030000</td>\n",
       "      <td>41.940400</td>\n",
       "      <td>-101.136000</td>\n",
       "      <td>3.543900e+04</td>\n",
       "      <td>42.275740</td>\n",
       "      <td>-100.446822</td>\n",
       "    </tr>\n",
       "    <tr>\n",
       "      <th>max</th>\n",
       "      <td>3261.470000</td>\n",
       "      <td>66.693300</td>\n",
       "      <td>-89.628700</td>\n",
       "      <td>2.383912e+06</td>\n",
       "      <td>67.510267</td>\n",
       "      <td>-88.646366</td>\n",
       "    </tr>\n",
       "  </tbody>\n",
       "</table>\n",
       "</div>"
      ],
      "text/plain": [
       "                amt           lat          long      city_pop     merch_lat  \\\n",
       "count  14446.000000  14446.000000  14446.000000  1.444600e+04  14446.000000   \n",
       "mean     124.430073     39.787692   -110.874225  1.065370e+05     39.787991   \n",
       "std      231.352587      5.317039     12.985813  2.902916e+05      5.360593   \n",
       "min        1.000000     20.027100   -165.672300  4.600000e+01     19.032689   \n",
       "25%       12.080000     36.715400   -120.415800  4.930000e+02     36.794655   \n",
       "50%       51.520000     39.666200   -111.098500  1.645000e+03     39.620953   \n",
       "75%      101.030000     41.940400   -101.136000  3.543900e+04     42.275740   \n",
       "max     3261.470000     66.693300    -89.628700  2.383912e+06     67.510267   \n",
       "\n",
       "         merch_long  \n",
       "count  14446.000000  \n",
       "mean    -110.874892  \n",
       "std       12.995596  \n",
       "min     -166.670685  \n",
       "25%     -120.146253  \n",
       "50%     -111.192629  \n",
       "75%     -100.446822  \n",
       "max      -88.646366  "
      ]
     },
     "execution_count": 12,
     "metadata": {},
     "output_type": "execute_result"
    }
   ],
   "source": [
    "fraud_df.describe()"
   ]
  },
  {
   "cell_type": "code",
   "execution_count": 19,
   "id": "779b5b88-0f81-4c01-a5bc-b569db4df29a",
   "metadata": {},
   "outputs": [],
   "source": [
    "# Convert transaction date to datetime format\n",
    "fraud_df['trans_date_trans_time'] = pd.to_datetime(fraud_df['trans_date_trans_time'], dayfirst=True, errors='coerce')\n"
   ]
  },
  {
   "cell_type": "code",
   "execution_count": 16,
   "id": "cb6f7769-cf97-4723-984e-a2c21609460f",
   "metadata": {},
   "outputs": [
    {
     "name": "stdout",
     "output_type": "stream",
     "text": [
      "0       2019-01-04 00:58:00\n",
      "1       2019-01-04 15:06:00\n",
      "2       2019-01-04 22:37:00\n",
      "3       2019-01-04 23:06:00\n",
      "4       2019-01-04 23:59:00\n",
      "                ...        \n",
      "14441   2019-01-22 00:37:00\n",
      "14442   2019-01-22 00:41:00\n",
      "14443   2019-01-22 00:42:00\n",
      "14444   2019-01-22 00:48:00\n",
      "14445   2019-01-22 00:55:00\n",
      "Name: trans_date_trans_time, Length: 14446, dtype: datetime64[ns]\n"
     ]
    }
   ],
   "source": [
    "print(fraud_df['trans_date_trans_time'])"
   ]
  },
  {
   "cell_type": "code",
   "execution_count": 17,
   "id": "e07eef63-363a-4784-b8d1-c936e773e4a0",
   "metadata": {},
   "outputs": [],
   "source": [
    "# Extract hour from transaction time\n",
    "fraud_df['trans_hour'] = fraud_df['trans_date_trans_time'].dt.hour\n"
   ]
  },
  {
   "cell_type": "code",
   "execution_count": 18,
   "id": "5c2909ef-e41c-4623-829e-a4ca4aeb3dad",
   "metadata": {},
   "outputs": [
    {
     "name": "stdout",
     "output_type": "stream",
     "text": [
      "0         0\n",
      "1        15\n",
      "2        22\n",
      "3        23\n",
      "4        23\n",
      "         ..\n",
      "14441     0\n",
      "14442     0\n",
      "14443     0\n",
      "14444     0\n",
      "14445     0\n",
      "Name: trans_hour, Length: 14446, dtype: int32\n"
     ]
    }
   ],
   "source": [
    "print(fraud_df['trans_hour'])"
   ]
  },
  {
   "cell_type": "code",
   "execution_count": 22,
   "id": "6ec01702-d456-4402-b8eb-210acc3c2eea",
   "metadata": {},
   "outputs": [
    {
     "name": "stdout",
     "output_type": "stream",
     "text": [
      "Collecting geopy\n",
      "  Downloading geopy-2.4.1-py3-none-any.whl.metadata (6.8 kB)\n",
      "Collecting geographiclib<3,>=1.52 (from geopy)\n",
      "  Downloading geographiclib-2.0-py3-none-any.whl.metadata (1.4 kB)\n",
      "Downloading geopy-2.4.1-py3-none-any.whl (125 kB)\n",
      "   ---------------------------------------- 0.0/125.4 kB ? eta -:--:--\n",
      "   ------------- -------------------------- 41.0/125.4 kB ? eta -:--:--\n",
      "   ------------------------- ------------- 81.9/125.4 kB 919.0 kB/s eta 0:00:01\n",
      "   ---------------------------- ---------- 92.2/125.4 kB 751.6 kB/s eta 0:00:01\n",
      "   -------------------------------------  122.9/125.4 kB 654.9 kB/s eta 0:00:01\n",
      "   -------------------------------------  122.9/125.4 kB 654.9 kB/s eta 0:00:01\n",
      "   -------------------------------------  122.9/125.4 kB 654.9 kB/s eta 0:00:01\n",
      "   -------------------------------------  122.9/125.4 kB 654.9 kB/s eta 0:00:01\n",
      "   -------------------------------------  122.9/125.4 kB 654.9 kB/s eta 0:00:01\n",
      "   -------------------------------------  122.9/125.4 kB 654.9 kB/s eta 0:00:01\n",
      "   -------------------------------------  122.9/125.4 kB 654.9 kB/s eta 0:00:01\n",
      "   -------------------------------------  122.9/125.4 kB 654.9 kB/s eta 0:00:01\n",
      "   -------------------------------------  122.9/125.4 kB 654.9 kB/s eta 0:00:01\n",
      "   -------------------------------------  122.9/125.4 kB 654.9 kB/s eta 0:00:01\n",
      "   -------------------------------------- 125.4/125.4 kB 175.6 kB/s eta 0:00:00\n",
      "Downloading geographiclib-2.0-py3-none-any.whl (40 kB)\n",
      "   ---------------------------------------- 0.0/40.3 kB ? eta -:--:--\n",
      "   ------------------------------ --------- 30.7/40.3 kB 1.4 MB/s eta 0:00:01\n",
      "   ------------------------------ --------- 30.7/40.3 kB 1.4 MB/s eta 0:00:01\n",
      "   ------------------------------ --------- 30.7/40.3 kB 1.4 MB/s eta 0:00:01\n",
      "   ------------------------------ --------- 30.7/40.3 kB 1.4 MB/s eta 0:00:01\n",
      "   ------------------------------ --------- 30.7/40.3 kB 1.4 MB/s eta 0:00:01\n",
      "   ------------------------------ --------- 30.7/40.3 kB 1.4 MB/s eta 0:00:01\n",
      "   ------------------------------ --------- 30.7/40.3 kB 1.4 MB/s eta 0:00:01\n",
      "   ------------------------------ --------- 30.7/40.3 kB 1.4 MB/s eta 0:00:01\n",
      "   ------------------------------ --------- 30.7/40.3 kB 1.4 MB/s eta 0:00:01\n",
      "   ---------------------------------------- 40.3/40.3 kB 62.2 kB/s eta 0:00:00\n",
      "Installing collected packages: geographiclib, geopy\n",
      "Successfully installed geographiclib-2.0 geopy-2.4.1\n",
      "Note: you may need to restart the kernel to use updated packages.\n"
     ]
    }
   ],
   "source": [
    "pip install geopy"
   ]
  },
  {
   "cell_type": "code",
   "execution_count": 23,
   "id": "028be213-0f03-46c4-a203-532cfe2a04b0",
   "metadata": {},
   "outputs": [],
   "source": [
    "from geopy.distance import geodesic"
   ]
  },
  {
   "cell_type": "code",
   "execution_count": 24,
   "id": "6a393714-8d7d-4cf6-80c2-f361ba5c0192",
   "metadata": {},
   "outputs": [],
   "source": [
    "# Calculate distance between transaction location and merchant location\n",
    "def calculate_distance(row):\n",
    "    return geodesic((row['lat'], row['long']), (row['merch_lat'], row['merch_long'])).km\n",
    "\n",
    "fraud_df['distance'] =fraud_df.apply(calculate_distance, axis=1)\n"
   ]
  },
  {
   "cell_type": "code",
   "execution_count": 25,
   "id": "a4103f60-a029-46f3-ac7c-56ed1a8abb1d",
   "metadata": {},
   "outputs": [
    {
     "name": "stdout",
     "output_type": "stream",
     "text": [
      "0        109.602464\n",
      "1         80.073191\n",
      "2         66.989556\n",
      "3         39.752058\n",
      "4         77.822083\n",
      "            ...    \n",
      "14441     68.229471\n",
      "14442    120.096145\n",
      "14443     94.880148\n",
      "14444     75.943368\n",
      "14445     66.186758\n",
      "Name: distance, Length: 14446, dtype: float64\n"
     ]
    }
   ],
   "source": [
    "print(fraud_df['distance'] )"
   ]
  },
  {
   "cell_type": "code",
   "execution_count": 29,
   "id": "10825551-d4af-44b4-b391-c687ddf76aef",
   "metadata": {},
   "outputs": [],
   "source": [
    "import seaborn as sns"
   ]
  },
  {
   "cell_type": "code",
   "execution_count": 32,
   "id": "729d3b25-c0e3-4ac9-867c-97090a4ac271",
   "metadata": {},
   "outputs": [
    {
     "data": {
      "image/png": "[encoded data removed]",
      "text/plain": [
       "<Figure size 1000x500 with 1 Axes>"
      ]
     },
     "metadata": {},
     "output_type": "display_data"
    }
   ],
   "source": [
    "# Visualize fraud vs. non-fraud transaction amounts\n",
    "plt.figure(figsize=(10, 5))\n",
    "sns.boxplot(x=fraud_df['is_fraud'], y=fraud_df['amt'])\n",
    "plt.ylim(0, 5000)  \n",
    "plt.title(\"Transaction Amounts by Fraud Status\")\n",
    "plt.show()"
   ]
  },
  {
   "cell_type": "code",
   "execution_count": 33,
   "id": "47580ec0-7082-4ff6-b06b-2f54b0237506",
   "metadata": {},
   "outputs": [
    {
     "data": {
      "image/png": "[encoded data removed]",
      "text/plain": [
       "<Figure size 1200x500 with 1 Axes>"
      ]
     },
     "metadata": {},
     "output_type": "display_data"
    }
   ],
   "source": [
    "# Fraud distribution by category\n",
    "plt.figure(figsize=(12, 5))\n",
    "sns.countplot(data=fraud_df, x='category', hue='is_fraud', order=fraud_df['category'].value_counts().index)\n",
    "plt.xticks(rotation=90)\n",
    "plt.title(\"Fraud Distribution by Category\")\n",
    "plt.show()\n"
   ]
  },
  {
   "cell_type": "code",
   "execution_count": 34,
   "id": "88649bf8-e1d5-4096-92d4-405e52d9b000",
   "metadata": {},
   "outputs": [
    {
     "name": "stderr",
     "output_type": "stream",
     "text": [
      "C:\\Users\\HP\\anaconda3\\Lib\\site-packages\\seaborn\\_oldcore.py:1119: FutureWarning: use_inf_as_na option is deprecated and will be removed in a future version. Convert inf values to NaN before operating instead.\n",
      "  with pd.option_context('mode.use_inf_as_na', True):\n"
     ]
    },
    {
     "data": {
      "image/png": "[encoded data removed]",
      "text/plain": [
       "<Figure size 1000x500 with 1 Axes>"
      ]
     },
     "metadata": {},
     "output_type": "display_data"
    }
   ],
   "source": [
    "# Fraud distribution over hours\n",
    "plt.figure(figsize=(10, 5))\n",
    "sns.histplot(data=fraud_df, x='trans_hour', hue='is_fraud', bins=24, kde=True)\n",
    "plt.title(\"Fraud Transactions by Hour\")\n",
    "plt.show()"
   ]
  },
  {
   "cell_type": "code",
   "execution_count": 55,
   "id": "79981e41-69fb-41d4-b853-c1237b434a21",
   "metadata": {},
   "outputs": [],
   "source": [
    "from sklearn.model_selection import train_test_split\n",
    "from sklearn.preprocessing import StandardScaler\n",
    "from sklearn.ensemble import RandomForestClassifier\n",
    "from sklearn.metrics import classification_report, accuracy_score\n"
   ]
  },
  {
   "cell_type": "code",
   "execution_count": 56,
   "id": "c62878a2-3578-4af1-8a22-bd390f2f20a7",
   "metadata": {},
   "outputs": [],
   "source": [
    "features = ['amt', 'trans_hour', 'distance', 'city_pop']"
   ]
  },
  {
   "cell_type": "code",
   "execution_count": 57,
   "id": "c217d961-c4d3-495e-bdfc-88680673bdfa",
   "metadata": {},
   "outputs": [],
   "source": [
    "target=fraud_df['is_fraud']"
   ]
  },
  {
   "cell_type": "code",
   "execution_count": 58,
   "id": "4371d012-0037-43a8-87fa-6cdc84364021",
   "metadata": {},
   "outputs": [],
   "source": [
    "X = fraud_df[features]\n",
    "y = fraud_df['is_fraud']"
   ]
  },
  {
   "cell_type": "code",
   "execution_count": 59,
   "id": "cd587021-66f4-443c-8448-9ebfaadf3cb0",
   "metadata": {},
   "outputs": [],
   "source": [
    "# Standardize features\n",
    "scaler = StandardScaler()\n",
    "X_scaled = scaler.fit_transform(X)"
   ]
  },
  {
   "cell_type": "code",
   "execution_count": 60,
   "id": "832400ab-cc8b-4df8-9e00-48ae547faded",
   "metadata": {},
   "outputs": [],
   "source": [
    "# Train-test split\n",
    "X_train, X_test, y_train, y_test = train_test_split(X_scaled, y, test_size=0.3, random_state=42)\n",
    "\n"
   ]
  },
  {
   "cell_type": "code",
   "execution_count": 61,
   "id": "0458a89a-12e8-49dd-8b4f-aad5a2ea2955",
   "metadata": {},
   "outputs": [
    {
     "data": {
      "text/html": [
       "<style>#sk-container-id-2 {color: black;background-color: white;}#sk-container-id-2 pre{padding: 0;}#sk-container-id-2 div.sk-toggleable {background-color: white;}#sk-container-id-2 label.sk-toggleable__label {cursor: pointer;display: block;width: 100%;margin-bottom: 0;padding: 0.3em;box-sizing: border-box;text-align: center;}#sk-container-id-2 label.sk-toggleable__label-arrow:before {content: \"▸\";float: left;margin-right: 0.25em;color: #696969;}#sk-container-id-2 label.sk-toggleable__label-arrow:hover:before {color: black;}#sk-container-id-2 div.sk-estimator:hover label.sk-toggleable__label-arrow:before {color: black;}#sk-container-id-2 div.sk-toggleable__content {max-height: 0;max-width: 0;overflow: hidden;text-align: left;background-color: #f0f8ff;}#sk-container-id-2 div.sk-toggleable__content pre {margin: 0.2em;color: black;border-radius: 0.25em;background-color: #f0f8ff;}#sk-container-id-2 input.sk-toggleable__control:checked~div.sk-toggleable__content {max-height: 200px;max-width: 100%;overflow: auto;}#sk-container-id-2 input.sk-toggleable__control:checked~label.sk-toggleable__label-arrow:before {content: \"▾\";}#sk-container-id-2 div.sk-estimator input.sk-toggleable__control:checked~label.sk-toggleable__label {background-color: #d4ebff;}#sk-container-id-2 div.sk-label input.sk-toggleable__control:checked~label.sk-toggleable__label {background-color: #d4ebff;}#sk-container-id-2 input.sk-hidden--visually {border: 0;clip: rect(1px 1px 1px 1px);clip: rect(1px, 1px, 1px, 1px);height: 1px;margin: -1px;overflow: hidden;padding: 0;position: absolute;width: 1px;}#sk-container-id-2 div.sk-estimator {font-family: monospace;background-color: #f0f8ff;border: 1px dotted black;border-radius: 0.25em;box-sizing: border-box;margin-bottom: 0.5em;}#sk-container-id-2 div.sk-estimator:hover {background-color: #d4ebff;}#sk-container-id-2 div.sk-parallel-item::after {content: \"\";width: 100%;border-bottom: 1px solid gray;flex-grow: 1;}#sk-container-id-2 div.sk-label:hover label.sk-toggleable__label {background-color: #d4ebff;}#sk-container-id-2 div.sk-serial::before {content: \"\";position: absolute;border-left: 1px solid gray;box-sizing: border-box;top: 0;bottom: 0;left: 50%;z-index: 0;}#sk-container-id-2 div.sk-serial {display: flex;flex-direction: column;align-items: center;background-color: white;padding-right: 0.2em;padding-left: 0.2em;position: relative;}#sk-container-id-2 div.sk-item {position: relative;z-index: 1;}#sk-container-id-2 div.sk-parallel {display: flex;align-items: stretch;justify-content: center;background-color: white;position: relative;}#sk-container-id-2 div.sk-item::before, #sk-container-id-2 div.sk-parallel-item::before {content: \"\";position: absolute;border-left: 1px solid gray;box-sizing: border-box;top: 0;bottom: 0;left: 50%;z-index: -1;}#sk-container-id-2 div.sk-parallel-item {display: flex;flex-direction: column;z-index: 1;position: relative;background-color: white;}#sk-container-id-2 div.sk-parallel-item:first-child::after {align-self: flex-end;width: 50%;}#sk-container-id-2 div.sk-parallel-item:last-child::after {align-self: flex-start;width: 50%;}#sk-container-id-2 div.sk-parallel-item:only-child::after {width: 0;}#sk-container-id-2 div.sk-dashed-wrapped {border: 1px dashed gray;margin: 0 0.4em 0.5em 0.4em;box-sizing: border-box;padding-bottom: 0.4em;background-color: white;}#sk-container-id-2 div.sk-label label {font-family: monospace;font-weight: bold;display: inline-block;line-height: 1.2em;}#sk-container-id-2 div.sk-label-container {text-align: center;}#sk-container-id-2 div.sk-container {/* jupyter's `normalize.less` sets `[hidden] { display: none; }` but bootstrap.min.css set `[hidden] { display: none !important; }` so we also need the `!important` here to be able to override the default hidden behavior on the sphinx rendered scikit-learn.org. See: https://github.com/scikit-learn/scikit-learn/issues/21755 */display: inline-block !important;position: relative;}#sk-container-id-2 div.sk-text-repr-fallback {display: none;}</style><div id=\"sk-container-id-2\" class=\"sk-top-container\"><div class=\"sk-text-repr-fallback\"><pre>RandomForestClassifier(random_state=42)</pre><b>In a Jupyter environment, please rerun this cell to show the HTML representation or trust the notebook. <br />On GitHub, the HTML representation is unable to render, please try loading this page with nbviewer.org.</b></div><div class=\"sk-container\" hidden><div class=\"sk-item\"><div class=\"sk-estimator sk-toggleable\"><input class=\"sk-toggleable__control sk-hidden--visually\" id=\"sk-estimator-id-2\" type=\"checkbox\" checked><label for=\"sk-estimator-id-2\" class=\"sk-toggleable__label sk-toggleable__label-arrow\">RandomForestClassifier</label><div class=\"sk-toggleable__content\"><pre>RandomForestClassifier(random_state=42)</pre></div></div></div></div></div>"
      ],
      "text/plain": [
       "RandomForestClassifier(random_state=42)"
      ]
     },
     "execution_count": 61,
     "metadata": {},
     "output_type": "execute_result"
    }
   ],
   "source": [
    "# Train Random Forest Classifier\n",
    "model = RandomForestClassifier(n_estimators=100, random_state=42)\n",
    "model.fit(X_train, y_train)\n"
   ]
  },
  {
   "cell_type": "code",
   "execution_count": 62,
   "id": "27fdb919-d566-4632-afde-af8bb6eb4a8f",
   "metadata": {},
   "outputs": [],
   "source": [
    "# Predictions\n",
    "y_pred = model.predict(X_test)\n"
   ]
  },
  {
   "cell_type": "code",
   "execution_count": 63,
   "id": "af06b2b2-0e48-47f6-9209-714dbabbfd01",
   "metadata": {},
   "outputs": [
    {
     "name": "stdout",
     "output_type": "stream",
     "text": [
      "Model Accuracy: 0.9610059990770651\n"
     ]
    },
    {
     "name": "stderr",
     "output_type": "stream",
     "text": [
      "C:\\Users\\HP\\anaconda3\\Lib\\site-packages\\sklearn\\metrics\\_classification.py:1344: UndefinedMetricWarning: Precision and F-score are ill-defined and being set to 0.0 in labels with no predicted samples. Use `zero_division` parameter to control this behavior.\n",
      "  _warn_prf(average, modifier, msg_start, len(result))\n",
      "C:\\Users\\HP\\anaconda3\\Lib\\site-packages\\sklearn\\metrics\\_classification.py:1344: UndefinedMetricWarning: Precision and F-score are ill-defined and being set to 0.0 in labels with no predicted samples. Use `zero_division` parameter to control this behavior.\n",
      "  _warn_prf(average, modifier, msg_start, len(result))\n",
      "C:\\Users\\HP\\anaconda3\\Lib\\site-packages\\sklearn\\metrics\\_classification.py:1344: UndefinedMetricWarning: Precision and F-score are ill-defined and being set to 0.0 in labels with no predicted samples. Use `zero_division` parameter to control this behavior.\n",
      "  _warn_prf(average, modifier, msg_start, len(result))\n"
     ]
    },
    {
     "name": "stdout",
     "output_type": "stream",
     "text": [
      "                        precision    recall  f1-score   support\n",
      "\n",
      "                     0       0.97      0.98      0.98      3768\n",
      "0\"2019-01-01 00:00:44\"       0.00      0.00      0.00         1\n",
      "                     1       0.86      0.83      0.85       565\n",
      "\n",
      "              accuracy                           0.96      4334\n",
      "             macro avg       0.61      0.60      0.61      4334\n",
      "          weighted avg       0.96      0.96      0.96      4334\n",
      "\n"
     ]
    }
   ],
   "source": [
    "# Print classification report and confusion matrix\n",
    "print(\"Model Accuracy:\", accuracy_score(y_test, y_pred))\n",
    "print(classification_report(y_test, y_pred))"
   ]
  },
  {
   "cell_type": "markdown",
   "id": "273dbf38-deb2-4517-ab4b-8b2cc4b3e9ed",
   "metadata": {},
   "source": [
    "MAKING PREDICTIONS"
   ]
  },
  {
   "cell_type": "code",
   "execution_count": 64,
   "id": "ed839587-6966-4d6c-bd91-4f30df37b78e",
   "metadata": {},
   "outputs": [],
   "source": [
    "# Predict fraud for the entire dataset\n",
    "fraud_df['fraud_prediction'] = model.predict(X_scaled)\n"
   ]
  },
  {
   "cell_type": "code",
   "execution_count": 65,
   "id": "b24ac136-92e8-4cc2-8ba9-3a5d7d1322e1",
   "metadata": {},
   "outputs": [
    {
     "name": "stdout",
     "output_type": "stream",
     "text": [
      "   is_fraud fraud_prediction\n",
      "0         1                0\n",
      "1         1                1\n",
      "2         1                1\n",
      "3         1                1\n",
      "4         1                1\n",
      "5         1                1\n",
      "6         1                1\n",
      "7         1                1\n",
      "8         1                1\n",
      "9         1                1\n",
      "10        1                1\n",
      "11        1                1\n",
      "12        1                1\n",
      "13        1                1\n",
      "14        1                1\n",
      "15        1                1\n",
      "16        1                1\n",
      "17        1                1\n",
      "18        1                1\n",
      "19        1                1\n",
      "20        1                1\n",
      "21        1                1\n",
      "22        1                1\n",
      "23        1                1\n",
      "24        1                1\n",
      "25        1                1\n",
      "26        1                1\n",
      "27        1                1\n",
      "28        1                1\n",
      "29        1                1\n",
      "30        1                1\n",
      "31        1                1\n",
      "32        1                1\n",
      "33        1                1\n",
      "34        1                1\n",
      "35        1                1\n",
      "36        1                1\n",
      "37        1                1\n",
      "38        1                1\n",
      "39        1                1\n",
      "40        1                1\n",
      "41        1                1\n",
      "42        1                1\n",
      "43        1                1\n",
      "44        1                1\n",
      "45        1                1\n",
      "46        1                1\n",
      "47        1                1\n",
      "48        1                1\n",
      "49        1                1\n"
     ]
    }
   ],
   "source": [
    "# Display a few sample predictions\n",
    "print(fraud_df[['is_fraud', 'fraud_prediction']].head(50))\n"
   ]
  },
  {
   "cell_type": "code",
   "execution_count": 66,
   "id": "4b35b2d1-825f-4463-8a17-93fabe0d8857",
   "metadata": {},
   "outputs": [
    {
     "name": "stdout",
     "output_type": "stream",
     "text": [
      "Overall Model Accuracy: 0.9883012598643223\n"
     ]
    },
    {
     "name": "stderr",
     "output_type": "stream",
     "text": [
      "C:\\Users\\HP\\anaconda3\\Lib\\site-packages\\sklearn\\metrics\\_classification.py:1344: UndefinedMetricWarning: Precision and F-score are ill-defined and being set to 0.0 in labels with no predicted samples. Use `zero_division` parameter to control this behavior.\n",
      "  _warn_prf(average, modifier, msg_start, len(result))\n"
     ]
    },
    {
     "name": "stdout",
     "output_type": "stream",
     "text": [
      "                        precision    recall  f1-score   support\n",
      "\n",
      "                     0       0.99      0.99      0.99     12600\n",
      "0\"2019-01-01 00:00:44\"       0.00      0.00      0.00         1\n",
      "                     1       0.96      0.95      0.95      1844\n",
      "1\"2020-12-24 16:56:24\"       1.00      1.00      1.00         1\n",
      "\n",
      "              accuracy                           0.99     14446\n",
      "             macro avg       0.74      0.74      0.74     14446\n",
      "          weighted avg       0.99      0.99      0.99     14446\n",
      "\n"
     ]
    },
    {
     "name": "stderr",
     "output_type": "stream",
     "text": [
      "C:\\Users\\HP\\anaconda3\\Lib\\site-packages\\sklearn\\metrics\\_classification.py:1344: UndefinedMetricWarning: Precision and F-score are ill-defined and being set to 0.0 in labels with no predicted samples. Use `zero_division` parameter to control this behavior.\n",
      "  _warn_prf(average, modifier, msg_start, len(result))\n",
      "C:\\Users\\HP\\anaconda3\\Lib\\site-packages\\sklearn\\metrics\\_classification.py:1344: UndefinedMetricWarning: Precision and F-score are ill-defined and being set to 0.0 in labels with no predicted samples. Use `zero_division` parameter to control this behavior.\n",
      "  _warn_prf(average, modifier, msg_start, len(result))\n"
     ]
    }
   ],
   "source": [
    "# Evaluate model performance on the full dataset\n",
    "print(\"Overall Model Accuracy:\", accuracy_score(y, fraud_df['fraud_prediction']))\n",
    "print(classification_report(y, fraud_df['fraud_prediction']))"
   ]
  },
  {
   "cell_type": "code",
   "execution_count": null,
   "id": "1ce30f8c-d899-4759-b371-ece9e53d5269",
   "metadata": {},
   "outputs": [],
   "source": []
  }
 ],
 "metadata": {
  "kernelspec": {
   "display_name": "Python 3 (ipykernel)",
   "language": "python",
   "name": "python3"
  },
  "language_info": {
   "codemirror_mode": {
    "name": "ipython",
    "version": 3
   },
   "file_extension": ".py",
   "mimetype": "text/x-python",
   "name": "python",
   "nbconvert_exporter": "python",
   "pygments_lexer": "ipython3",
   "version": "3.11.7"
  }
 },
 "nbformat": 4,
 "nbformat_minor": 5
}
